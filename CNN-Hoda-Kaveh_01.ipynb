{
 "cells": [
  {
   "cell_type": "markdown",
   "metadata": {},
   "source": [
    "<center><div style=\"direction:rtl;font-family:B Lotus, B Nazanin, Tahoma\">به نام خدا</div></center>\n",
    "<h1><center><div style=\"direction:rtl;font-family:B Lotus, B Nazanin, Tahoma\">مقدمه ای بر شبکه‌های عصبی کانولوشنالی<br>Convolutionl Neural Networks - CNN</div></center></h1>"
   ]
  },
  {
   "cell_type": "markdown",
   "metadata": {},
   "source": [
    "# <div style=\"direction:rtl;text-align:right;font-family:B Lotus, B Nazanin, Tahoma\">مقدمه ای بر شبکه‌های عصبی کانولوشنالی(Convolutionl Neural Networks - CNN)</div>"
   ]
  },
  {
   "cell_type": "markdown",
   "metadata": {},
   "source": [
    "<div style=\"direction:rtl;text-align:right;font-family:Tahoma\">\n",
    "در ابتدا معماری شبکه را مشخص میکنیم.\n",
    "<br>\n",
    "به لایه های conv و pool دقت کنید.\n",
    "<br>\n",
    "قبل از اولین لایه Dense یا Fully Connected همیشه متد Flatten فراخوانی میشود تا نورون ها به صورت یک وکتور در بیایند.\n",
    "</div>"
   ]
  },
  {
   "cell_type": "markdown",
   "metadata": {},
   "source": [
    "## <div style=\"direction:rtl;text-align:right;font-family:B Lotus, B Nazanin, Tahoma\">اجرا روی Colab</div>\n"
   ]
  },
  {
   "cell_type": "markdown",
   "metadata": {},
   "source": [
    "<div style=\"direction:rtl;text-align:right;font-family:Tahoma\">\n",
    "اگر روی گوگل کولب اجرا میکنید این خطوط را از حالت کامنت خارج نمائید.\n",
    "</div>"
   ]
  },
  {
   "cell_type": "code",
   "execution_count": null,
   "metadata": {},
   "outputs": [],
   "source": [
    "#!wget https://raw.githubusercontent.com/Alireza-Akhavan/SRU-deeplearning-workshop/master/dataset.py\n",
    "#!mkdir dataset\n",
    "#!wget https://github.com/Alireza-Akhavan/SRU-deeplearning-workshop/raw/master/dataset/Data_hoda_full.mat -P dataset"
   ]
  },
  {
   "cell_type": "code",
   "execution_count": 2,
   "metadata": {},
   "outputs": [],
   "source": [
    "from tensorflow import keras\n",
    "from keras import layers\n",
    "from keras.models import Sequential\n",
    "from keras.layers import Dense, Dropout, Activation\n",
    "import numpy as np\n",
    "#from dataset import load_hoda\n",
    "import matplotlib.pyplot as plt\n",
    "\n",
    "model = Sequential()\n",
    "model.add(layers.Conv2D(32, (3, 3), activation='relu',\n",
    "                        input_shape=(28, 28, 1)))\n",
    "model.add(layers.MaxPooling2D((2, 2)))\n",
    "model.add(layers.Conv2D(64, (3, 3), activation='relu'))\n",
    "model.add(layers.MaxPooling2D((2, 2)))\n",
    "model.add(layers.Conv2D(64, (3, 3), activation='relu'))\n",
    "model.add(layers.Flatten())\n",
    "model.add(layers.Dense(64, activation='relu'))\n",
    "model.add(Dropout(0.5))\n",
    "model.add(layers.Dense(10, activation='softmax'))\n"
   ]
  },
  {
   "cell_type": "markdown",
   "metadata": {},
   "source": [
    "<div style=\"direction:rtl;text-align:right;font-family:Tahoma\">\n",
    "نگاهی به تنسور وردی و خروجی هر لایه بیندازیم.\n",
    "<br>\n",
    "تصویر ورودی 28x28x3 بوده است\n",
    "</div>"
   ]
  },
  {
   "cell_type": "code",
   "execution_count": 3,
   "metadata": {},
   "outputs": [
    {
     "name": "stdout",
     "output_type": "stream",
     "text": [
      "Model: \"sequential\"\n",
      "_________________________________________________________________\n",
      " Layer (type)                Output Shape              Param #   \n",
      "=================================================================\n",
      " conv2d (Conv2D)             (None, 26, 26, 32)        320       \n",
      "                                                                 \n",
      " max_pooling2d (MaxPooling2D  (None, 13, 13, 32)       0         \n",
      " )                                                               \n",
      "                                                                 \n",
      " conv2d_1 (Conv2D)           (None, 11, 11, 64)        18496     \n",
      "                                                                 \n",
      " max_pooling2d_1 (MaxPooling  (None, 5, 5, 64)         0         \n",
      " 2D)                                                             \n",
      "                                                                 \n",
      " conv2d_2 (Conv2D)           (None, 3, 3, 64)          36928     \n",
      "                                                                 \n",
      " flatten (Flatten)           (None, 576)               0         \n",
      "                                                                 \n",
      " dense (Dense)               (None, 64)                36928     \n",
      "                                                                 \n",
      " dropout (Dropout)           (None, 64)                0         \n",
      "                                                                 \n",
      " dense_1 (Dense)             (None, 10)                650       \n",
      "                                                                 \n",
      "=================================================================\n",
      "Total params: 93,322\n",
      "Trainable params: 93,322\n",
      "Non-trainable params: 0\n",
      "_________________________________________________________________\n"
     ]
    }
   ],
   "source": [
    "model.summary()"
   ]
  },
  {
   "cell_type": "markdown",
   "metadata": {},
   "source": [
    "## <div style=\"direction:rtl;text-align:right;font-family:B Lotus, B Nazanin, Tahoma\">کد یک شبکه کانولوشنالی و آموزش آن از ابتدا تا انتها بر روی مجموعه داده هدی</div>\n"
   ]
  },
  {
   "cell_type": "markdown",
   "metadata": {},
   "source": [
    "<div style=\"direction:rtl;text-align:right;font-family:Tahoma\">\n",
    "تصاویر مجموعه داده هدی در تابعی که قبلا نوشته ایم، load_hoda به صورت flat شده و یک وکتور در آمده اند.\n",
    "<br>\n",
    "در این فراخوانی طول و عرض تصاویر 28 قرار داده شده است، پس خروجی این تابع وکتورهای 784تایی است.\n",
    "<br>\n",
    "** دقت کنید که قبل از ورودی شبکه کانولوشنالی تصویر را به شکل اصلی خود یعنی 28x28 برگردانده ایم.**\n",
    "<br>\n",
    "همچنین چون تصاویر سیاه و سفید است تعداد کانال تصویر را 1 قرار داده ایم.\n",
    "</div>"
   ]
  },
  {
   "cell_type": "code",
   "execution_count": 4,
   "metadata": {},
   "outputs": [],
   "source": [
    "from scipy import io\n",
    "import matplotlib.pyplot as plt\n",
    "from skimage.transform import resize\n",
    "#from sklearn.neighbors import KNeighborsClassifier\n",
    "import cv2"
   ]
  },
  {
   "cell_type": "code",
   "execution_count": 5,
   "metadata": {},
   "outputs": [],
   "source": [
    "#load dataset\n",
    "dataset = io.loadmat('./dataset/Data_hoda_full.mat')"
   ]
  },
  {
   "cell_type": "code",
   "execution_count": 6,
   "metadata": {},
   "outputs": [],
   "source": [
    "#test and training set\n",
    "x_train_original = np.squeeze(dataset['Data'][:3500])\n",
    "y_train_original = np.squeeze(dataset['labels'][:3500])\n",
    "x_test_original = np.squeeze(dataset['Data'][3500:3900])\n",
    "y_test_original = np.squeeze(dataset['labels'][3500:3900])"
   ]
  },
  {
   "cell_type": "code",
   "execution_count": 7,
   "metadata": {},
   "outputs": [],
   "source": [
    "X_train_5by5 = [cv2.resize(img, dsize= (28, 28)) for img in x_train_original]\n",
    "X_test_5by_5 = [cv2.resize(img, dsize= (28, 28)) for img in x_test_original]"
   ]
  },
  {
   "cell_type": "code",
   "execution_count": 8,
   "metadata": {},
   "outputs": [],
   "source": [
    "x_train_original = [x.reshape(784) for x in X_train_5by5]\n",
    "x_test_original = [x.reshape(784) for x in X_test_5by_5]"
   ]
  },
  {
   "cell_type": "code",
   "execution_count": 9,
   "metadata": {
    "scrolled": true
   },
   "outputs": [
    {
     "name": "stdout",
     "output_type": "stream",
     "text": [
      "Epoch 1/60\n",
      "14/14 [==============================] - 5s 175ms/step - loss: 2.0061 - accuracy: 0.3334 - val_loss: 1.2361 - val_accuracy: 0.7650\n",
      "Epoch 2/60\n",
      "14/14 [==============================] - 2s 142ms/step - loss: 1.0738 - accuracy: 0.6417 - val_loss: 0.5053 - val_accuracy: 0.8350\n",
      "Epoch 3/60\n",
      "14/14 [==============================] - 2s 136ms/step - loss: 0.7386 - accuracy: 0.7477 - val_loss: 0.3562 - val_accuracy: 0.8950\n",
      "Epoch 4/60\n",
      "14/14 [==============================] - 2s 136ms/step - loss: 0.5592 - accuracy: 0.8094 - val_loss: 0.2696 - val_accuracy: 0.9200\n",
      "Epoch 5/60\n",
      "14/14 [==============================] - 2s 148ms/step - loss: 0.4587 - accuracy: 0.8423 - val_loss: 0.2407 - val_accuracy: 0.9250\n",
      "Epoch 6/60\n",
      "14/14 [==============================] - 2s 151ms/step - loss: 0.3975 - accuracy: 0.8703 - val_loss: 0.2237 - val_accuracy: 0.9300\n",
      "Epoch 7/60\n",
      "14/14 [==============================] - 2s 148ms/step - loss: 0.3383 - accuracy: 0.8806 - val_loss: 0.1924 - val_accuracy: 0.9350\n",
      "Epoch 8/60\n",
      "14/14 [==============================] - 2s 148ms/step - loss: 0.2983 - accuracy: 0.8946 - val_loss: 0.1965 - val_accuracy: 0.9350\n",
      "Epoch 9/60\n",
      "14/14 [==============================] - 2s 143ms/step - loss: 0.2814 - accuracy: 0.9097 - val_loss: 0.1546 - val_accuracy: 0.9600\n",
      "Epoch 10/60\n",
      "14/14 [==============================] - 2s 140ms/step - loss: 0.2336 - accuracy: 0.9214 - val_loss: 0.1396 - val_accuracy: 0.9500\n",
      "Epoch 11/60\n",
      "14/14 [==============================] - 2s 135ms/step - loss: 0.2371 - accuracy: 0.9223 - val_loss: 0.1452 - val_accuracy: 0.9550\n",
      "Epoch 12/60\n",
      "14/14 [==============================] - 2s 137ms/step - loss: 0.2133 - accuracy: 0.9297 - val_loss: 0.1473 - val_accuracy: 0.9550\n",
      "Epoch 13/60\n",
      "14/14 [==============================] - 2s 134ms/step - loss: 0.1941 - accuracy: 0.9346 - val_loss: 0.1325 - val_accuracy: 0.9700\n",
      "Epoch 14/60\n",
      "14/14 [==============================] - 2s 138ms/step - loss: 0.1820 - accuracy: 0.9431 - val_loss: 0.1336 - val_accuracy: 0.9450\n",
      "Epoch 15/60\n",
      "14/14 [==============================] - 2s 138ms/step - loss: 0.1695 - accuracy: 0.9420 - val_loss: 0.1249 - val_accuracy: 0.9500\n",
      "Epoch 16/60\n",
      "14/14 [==============================] - 2s 133ms/step - loss: 0.1518 - accuracy: 0.9483 - val_loss: 0.1385 - val_accuracy: 0.9650\n",
      "Epoch 17/60\n",
      "14/14 [==============================] - 2s 134ms/step - loss: 0.1333 - accuracy: 0.9563 - val_loss: 0.1203 - val_accuracy: 0.9600\n",
      "Epoch 18/60\n",
      "14/14 [==============================] - 2s 143ms/step - loss: 0.1289 - accuracy: 0.9563 - val_loss: 0.1150 - val_accuracy: 0.9700\n",
      "Epoch 19/60\n",
      "14/14 [==============================] - 2s 141ms/step - loss: 0.1337 - accuracy: 0.9554 - val_loss: 0.1322 - val_accuracy: 0.9600\n",
      "Epoch 20/60\n",
      "14/14 [==============================] - 2s 134ms/step - loss: 0.1263 - accuracy: 0.9591 - val_loss: 0.1368 - val_accuracy: 0.9500\n",
      "Epoch 21/60\n",
      "14/14 [==============================] - 2s 136ms/step - loss: 0.1238 - accuracy: 0.9640 - val_loss: 0.1344 - val_accuracy: 0.9650\n",
      "Epoch 22/60\n",
      "14/14 [==============================] - 2s 135ms/step - loss: 0.1006 - accuracy: 0.9711 - val_loss: 0.1358 - val_accuracy: 0.9650\n",
      "Epoch 23/60\n",
      "14/14 [==============================] - 2s 136ms/step - loss: 0.1022 - accuracy: 0.9669 - val_loss: 0.1018 - val_accuracy: 0.9750\n",
      "Epoch 24/60\n",
      "14/14 [==============================] - 2s 135ms/step - loss: 0.1043 - accuracy: 0.9669 - val_loss: 0.1014 - val_accuracy: 0.9800\n",
      "Epoch 25/60\n",
      "14/14 [==============================] - 2s 136ms/step - loss: 0.0949 - accuracy: 0.9694 - val_loss: 0.1048 - val_accuracy: 0.9700\n",
      "Epoch 26/60\n",
      "14/14 [==============================] - 2s 134ms/step - loss: 0.0908 - accuracy: 0.9729 - val_loss: 0.1002 - val_accuracy: 0.9700\n",
      "Epoch 27/60\n",
      "14/14 [==============================] - 2s 134ms/step - loss: 0.0870 - accuracy: 0.9723 - val_loss: 0.1122 - val_accuracy: 0.9750\n",
      "Epoch 28/60\n",
      "14/14 [==============================] - 2s 135ms/step - loss: 0.0762 - accuracy: 0.9723 - val_loss: 0.1258 - val_accuracy: 0.9700\n",
      "Epoch 29/60\n",
      "14/14 [==============================] - 2s 135ms/step - loss: 0.0717 - accuracy: 0.9749 - val_loss: 0.0787 - val_accuracy: 0.9800\n",
      "Epoch 30/60\n",
      "14/14 [==============================] - 2s 135ms/step - loss: 0.0759 - accuracy: 0.9740 - val_loss: 0.1046 - val_accuracy: 0.9700\n",
      "Epoch 31/60\n",
      "14/14 [==============================] - 2s 135ms/step - loss: 0.0670 - accuracy: 0.9789 - val_loss: 0.0932 - val_accuracy: 0.9750\n",
      "Epoch 32/60\n",
      "14/14 [==============================] - 2s 134ms/step - loss: 0.0664 - accuracy: 0.9783 - val_loss: 0.1205 - val_accuracy: 0.9750\n",
      "Epoch 33/60\n",
      "14/14 [==============================] - 2s 134ms/step - loss: 0.0656 - accuracy: 0.9780 - val_loss: 0.1243 - val_accuracy: 0.9750\n",
      "Epoch 34/60\n",
      "14/14 [==============================] - 2s 136ms/step - loss: 0.0597 - accuracy: 0.9794 - val_loss: 0.1148 - val_accuracy: 0.9700\n",
      "Epoch 35/60\n",
      "14/14 [==============================] - 2s 133ms/step - loss: 0.0624 - accuracy: 0.9800 - val_loss: 0.1143 - val_accuracy: 0.9750\n",
      "Epoch 36/60\n",
      "14/14 [==============================] - 2s 134ms/step - loss: 0.0551 - accuracy: 0.9803 - val_loss: 0.0910 - val_accuracy: 0.9700\n",
      "Epoch 37/60\n",
      "14/14 [==============================] - 2s 136ms/step - loss: 0.0433 - accuracy: 0.9846 - val_loss: 0.1066 - val_accuracy: 0.9650\n",
      "Epoch 38/60\n",
      "14/14 [==============================] - 2s 135ms/step - loss: 0.0428 - accuracy: 0.9849 - val_loss: 0.1144 - val_accuracy: 0.9800\n",
      "Epoch 39/60\n",
      "14/14 [==============================] - 2s 142ms/step - loss: 0.0498 - accuracy: 0.9829 - val_loss: 0.1186 - val_accuracy: 0.9750\n",
      "Epoch 40/60\n",
      "14/14 [==============================] - 2s 140ms/step - loss: 0.0444 - accuracy: 0.9863 - val_loss: 0.1289 - val_accuracy: 0.9700\n",
      "Epoch 41/60\n",
      "14/14 [==============================] - 2s 139ms/step - loss: 0.0431 - accuracy: 0.9851 - val_loss: 0.1006 - val_accuracy: 0.9800\n",
      "Epoch 42/60\n",
      "14/14 [==============================] - 2s 136ms/step - loss: 0.0459 - accuracy: 0.9854 - val_loss: 0.1053 - val_accuracy: 0.9800\n",
      "Epoch 43/60\n",
      "14/14 [==============================] - 2s 136ms/step - loss: 0.0415 - accuracy: 0.9860 - val_loss: 0.1134 - val_accuracy: 0.9800\n",
      "Epoch 44/60\n",
      "14/14 [==============================] - 2s 145ms/step - loss: 0.0403 - accuracy: 0.9843 - val_loss: 0.0978 - val_accuracy: 0.9800\n",
      "Epoch 45/60\n",
      "14/14 [==============================] - 2s 149ms/step - loss: 0.0353 - accuracy: 0.9877 - val_loss: 0.0981 - val_accuracy: 0.9800\n",
      "Epoch 46/60\n",
      "14/14 [==============================] - 2s 153ms/step - loss: 0.0340 - accuracy: 0.9886 - val_loss: 0.0856 - val_accuracy: 0.9750\n",
      "Epoch 47/60\n",
      "14/14 [==============================] - 2s 146ms/step - loss: 0.0320 - accuracy: 0.9897 - val_loss: 0.0991 - val_accuracy: 0.9800\n",
      "Epoch 48/60\n",
      "14/14 [==============================] - 2s 147ms/step - loss: 0.0378 - accuracy: 0.9851 - val_loss: 0.0799 - val_accuracy: 0.9700\n",
      "Epoch 49/60\n",
      "14/14 [==============================] - 2s 146ms/step - loss: 0.0373 - accuracy: 0.9869 - val_loss: 0.1095 - val_accuracy: 0.9850\n",
      "Epoch 50/60\n",
      "14/14 [==============================] - 2s 147ms/step - loss: 0.0410 - accuracy: 0.9869 - val_loss: 0.1096 - val_accuracy: 0.9750\n",
      "Epoch 51/60\n",
      "14/14 [==============================] - 2s 147ms/step - loss: 0.0347 - accuracy: 0.9891 - val_loss: 0.1001 - val_accuracy: 0.9850\n",
      "Epoch 52/60\n",
      "14/14 [==============================] - 2s 154ms/step - loss: 0.0291 - accuracy: 0.9920 - val_loss: 0.1159 - val_accuracy: 0.9800\n",
      "Epoch 53/60\n",
      "14/14 [==============================] - 2s 155ms/step - loss: 0.0297 - accuracy: 0.9897 - val_loss: 0.1001 - val_accuracy: 0.9750\n",
      "Epoch 54/60\n",
      "14/14 [==============================] - 2s 147ms/step - loss: 0.0305 - accuracy: 0.9891 - val_loss: 0.1160 - val_accuracy: 0.9750\n",
      "Epoch 55/60\n",
      "14/14 [==============================] - 2s 147ms/step - loss: 0.0345 - accuracy: 0.9894 - val_loss: 0.1024 - val_accuracy: 0.9800\n",
      "Epoch 56/60\n",
      "14/14 [==============================] - 2s 145ms/step - loss: 0.0319 - accuracy: 0.9889 - val_loss: 0.1454 - val_accuracy: 0.9850\n",
      "Epoch 57/60\n",
      "14/14 [==============================] - 2s 145ms/step - loss: 0.0258 - accuracy: 0.9917 - val_loss: 0.1069 - val_accuracy: 0.9850\n",
      "Epoch 58/60\n"
     ]
    },
    {
     "name": "stdout",
     "output_type": "stream",
     "text": [
      "14/14 [==============================] - 2s 144ms/step - loss: 0.0260 - accuracy: 0.9906 - val_loss: 0.1211 - val_accuracy: 0.9700\n",
      "Epoch 59/60\n",
      "14/14 [==============================] - 2s 150ms/step - loss: 0.0275 - accuracy: 0.9914 - val_loss: 0.1183 - val_accuracy: 0.9750\n",
      "Epoch 60/60\n",
      "14/14 [==============================] - 2s 144ms/step - loss: 0.0300 - accuracy: 0.9903 - val_loss: 0.1464 - val_accuracy: 0.9750\n"
     ]
    }
   ],
   "source": [
    "# 1. Import libraries and modules\n",
    "import keras\n",
    "from keras import layers\n",
    "from keras.models import Sequential\n",
    "from keras.layers import Dense, Dropout, Activation\n",
    "import numpy as np\n",
    "#from dataset import load_hoda\n",
    "import matplotlib.pyplot as plt\n",
    "\n",
    "np.random.seed(123)  # for reproducibility\n",
    "\n",
    "# Load pre-shuffled HODA data into train and test sets\n",
    "#x_train_original, y_train_original, x_test_original, y_test_original = load_hoda(\n",
    "#                                                                        training_sample_size=3500,\n",
    "#                                                                        test_sample_size=400,size=28)\n",
    "\n",
    "# Preprocess input data\n",
    "''' 3.1: input data in numpy array format'''\n",
    "x_train = np.array(x_train_original)\n",
    "x_test = np.array(x_test_original)\n",
    "'''3.2 normalize our data values to the range [0, 1]'''\n",
    "x_train = x_train.astype('float32')\n",
    "x_test = x_test.astype('float32')\n",
    "x_train /= 255\n",
    "x_test /= 255\n",
    "\n",
    "# Reshape to original image shape (n x 784)  ==> (n x 28 x 28 x 1)\n",
    "x_train = x_train.reshape(-1,28,28,1)\n",
    "x_test = x_test.reshape(-1,28,28,1)\n",
    "\n",
    "\n",
    "# 4. Preprocess class labels\n",
    "y_train = keras.utils.to_categorical(y_train_original, num_classes=10)\n",
    "y_test = keras.utils.to_categorical(y_test_original, num_classes=10)\n",
    "\n",
    "\n",
    "# test and validation set\n",
    "x_val = x_test[:200]\n",
    "x_test = x_test[200:]\n",
    "y_val = y_test[:200]\n",
    "y_test = y_test[200:]\n",
    "\n",
    "# 5. Define model architecture\n",
    "model = Sequential()\n",
    "model.add(layers.Conv2D(32, (3, 3), activation='relu',\n",
    "                        input_shape=(28, 28, 1)))\n",
    "model.add(layers.MaxPooling2D((2, 2)))\n",
    "model.add(layers.Conv2D(64, (3, 3), activation='relu'))\n",
    "model.add(layers.MaxPooling2D((2, 2)))\n",
    "model.add(layers.Conv2D(64, (3, 3), activation='relu'))\n",
    "model.add(layers.Flatten())\n",
    "model.add(layers.Dense(64, activation='relu'))\n",
    "model.add(Dropout(0.5))\n",
    "model.add(layers.Dense(10, activation='softmax'))\n",
    "\n",
    "\n",
    "# 6. Compile model\n",
    "model.compile(loss='categorical_crossentropy',\n",
    "              optimizer='adam',\n",
    "              metrics=['accuracy'])\n",
    "\n",
    "\n",
    "# 7. Fit model on training data\n",
    "history = model.fit(x_train, y_train,\n",
    "          epochs=60, batch_size=256, validation_data = (x_val, y_val))\n",
    "\n"
   ]
  },
  {
   "cell_type": "code",
   "execution_count": 10,
   "metadata": {},
   "outputs": [
    {
     "data": {
      "image/png": "[encoded data removed]",
      "text/plain": [
       "<Figure size 432x288 with 1 Axes>"
      ]
     },
     "metadata": {
      "needs_background": "light"
     },
     "output_type": "display_data"
    },
    {
     "data": {
      "image/png": "[encoded data removed]",
      "text/plain": [
       "<Figure size 432x288 with 1 Axes>"
      ]
     },
     "metadata": {
      "needs_background": "light"
     },
     "output_type": "display_data"
    }
   ],
   "source": [
    "import matplotlib.pyplot as plt\n",
    "%matplotlib inline\n",
    "acc = history.history['accuracy']\n",
    "val_acc = history.history['val_accuracy']\n",
    "loss = history.history['loss']\n",
    "val_loss = history.history['val_loss']\n",
    "\n",
    "epochs = range(len(acc))\n",
    "\n",
    "plt.plot(epochs, acc, 'bo', label='Training acc')\n",
    "plt.plot(epochs, val_acc, 'b', label='Validation acc')\n",
    "plt.title('Training and validation accuracy')\n",
    "plt.legend()\n",
    "\n",
    "plt.figure()\n",
    "\n",
    "plt.plot(epochs, loss, 'bo', label='Training loss')\n",
    "plt.plot(epochs, val_loss, 'b', label='Validation loss')\n",
    "plt.title('Training and validation loss')\n",
    "plt.legend()\n",
    "\n",
    "plt.show()"
   ]
  },
  {
   "cell_type": "code",
   "execution_count": 19,
   "metadata": {},
   "outputs": [],
   "source": [
    "image = plt.imread('./image/adad_1.png')"
   ]
  },
  {
   "cell_type": "code",
   "execution_count": 20,
   "metadata": {},
   "outputs": [],
   "source": [
    "image = image[:,:,0] / 3 + image[:,:,1] / 3 + image[:,:,2] / 3"
   ]
  },
  {
   "cell_type": "code",
   "execution_count": 21,
   "metadata": {},
   "outputs": [],
   "source": [
    "#image = image * 255"
   ]
  },
  {
   "cell_type": "code",
   "execution_count": 22,
   "metadata": {},
   "outputs": [
    {
     "data": {
      "text/plain": [
       "<matplotlib.image.AxesImage at 0x17cda931730>"
      ]
     },
     "execution_count": 22,
     "metadata": {},
     "output_type": "execute_result"
    },
    {
     "data": {
      "image/png": "[encoded data removed]",
      "text/plain": [
       "<Figure size 432x288 with 1 Axes>"
      ]
     },
     "metadata": {
      "needs_background": "light"
     },
     "output_type": "display_data"
    }
   ],
   "source": [
    "plt.imshow(image,cmap = 'gray')"
   ]
  },
  {
   "cell_type": "code",
   "execution_count": 23,
   "metadata": {},
   "outputs": [],
   "source": [
    "image = image.astype('float32')"
   ]
  },
  {
   "cell_type": "code",
   "execution_count": 24,
   "metadata": {},
   "outputs": [],
   "source": [
    "image  = cv2.resize(image, dsize = (28,28))"
   ]
  },
  {
   "cell_type": "code",
   "execution_count": 25,
   "metadata": {},
   "outputs": [],
   "source": [
    "fimage = image.reshape([-1,28,28,1])"
   ]
  },
  {
   "cell_type": "code",
   "execution_count": 26,
   "metadata": {},
   "outputs": [
    {
     "name": "stdout",
     "output_type": "stream",
     "text": [
      "1/1 [==============================] - 0s 19ms/step\n"
     ]
    },
    {
     "data": {
      "text/plain": [
       "array([[2.4812516e-09, 8.8637986e-09, 1.4013918e-10, 7.1621880e-06,\n",
       "        2.8743837e-06, 9.9998081e-01, 7.2919826e-09, 4.1934762e-09,\n",
       "        9.1445081e-06, 6.6958431e-12]], dtype=float32)"
      ]
     },
     "execution_count": 26,
     "metadata": {},
     "output_type": "execute_result"
    }
   ],
   "source": [
    "model.predict(fimage)"
   ]
  },
  {
   "cell_type": "code",
   "execution_count": null,
   "metadata": {},
   "outputs": [],
   "source": []
  }
 ],
 "metadata": {
  "anaconda-cloud": {},
  "kernelspec": {
   "display_name": "Python 3",
   "language": "python",
   "name": "python3"
  },
  "language_info": {
   "codemirror_mode": {
    "name": "ipython",
    "version": 3
   },
   "file_extension": ".py",
   "mimetype": "text/x-python",
   "name": "python",
   "nbconvert_exporter": "python",
   "pygments_lexer": "ipython3",
   "version": "3.8.2"
  },
  "nbpresent": {
   "slides": {
    "300ee14f-a043-486e-b274-7ff253907cd7": {
     "id": "300ee14f-a043-486e-b274-7ff253907cd7",
     "prev": "cb74e0bc-4513-4d13-b7f1-14c3078a7927",
     "regions": {
      "26dc3f39-a230-447c-af4c-f5e5b2fb7835": {
       "attrs": {
        "height": 0.8,
        "width": 0.8,
        "x": 0.1,
        "y": 0.1
       },
       "content": {
        "cell": "c58440a5-3f8f-4f37-9c79-6bf766209406",
        "part": "whole"
       },
       "id": "26dc3f39-a230-447c-af4c-f5e5b2fb7835"
      }
     }
    },
    "878aa53a-1444-4100-8f50-7a408191c579": {
     "id": "878aa53a-1444-4100-8f50-7a408191c579",
     "prev": null,
     "regions": {
      "a6c6843a-5ea6-4fbc-b890-3b4b8ae475b3": {
       "attrs": {
        "height": 0.8,
        "width": 0.8,
        "x": 0.1,
        "y": 0.1
       },
       "content": {
        "cell": "588ee1fa-64b5-453b-ade7-8e6b2515821c",
        "part": "whole"
       },
       "id": "a6c6843a-5ea6-4fbc-b890-3b4b8ae475b3"
      }
     }
    },
    "96ffe88e-7b50-43de-afdd-942e564f4e3e": {
     "id": "96ffe88e-7b50-43de-afdd-942e564f4e3e",
     "prev": "878aa53a-1444-4100-8f50-7a408191c579",
     "regions": {
      "b7e52e12-489a-468d-b10c-af2024fd2856": {
       "attrs": {
        "height": 0.8,
        "width": 0.8,
        "x": 0.1,
        "y": 0.1
       },
       "content": {
        "cell": "de829a92-1fb6-44ad-a2c6-fc1001e1f6e1",
        "part": "whole"
       },
       "id": "b7e52e12-489a-468d-b10c-af2024fd2856"
      }
     }
    },
    "cb74e0bc-4513-4d13-b7f1-14c3078a7927": {
     "id": "cb74e0bc-4513-4d13-b7f1-14c3078a7927",
     "prev": "96ffe88e-7b50-43de-afdd-942e564f4e3e",
     "regions": {
      "444878ee-68f3-4abb-acff-a7079b21e86d": {
       "attrs": {
        "height": 0.8,
        "width": 0.8,
        "x": 0.1,
        "y": 0.1
       },
       "content": {
        "cell": "25f3f538-1ee8-4d98-a6bb-14cbeb7a702d",
        "part": "whole"
       },
       "id": "444878ee-68f3-4abb-acff-a7079b21e86d"
      }
     }
    }
   },
   "themes": {}
  }
 },
 "nbformat": 4,
 "nbformat_minor": 1
}
